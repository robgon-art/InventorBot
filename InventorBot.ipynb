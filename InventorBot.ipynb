{
  "nbformat": 4,
  "nbformat_minor": 0,
  "metadata": {
    "colab": {
      "name": "InventorBot",
      "provenance": [],
      "collapsed_sections": [],
      "machine_shape": "hm",
      "include_colab_link": true
    },
    "kernelspec": {
      "display_name": "Python 3",
      "name": "python3"
    },
    "accelerator": "GPU"
  },
  "cells": [
    {
      "cell_type": "markdown",
      "metadata": {
        "id": "view-in-github",
        "colab_type": "text"
      },
      "source": [
        "<a href=\"https://colab.research.google.com/github/robgon-art/InventorBot/blob/main/InventorBot.ipynb\" target=\"_parent\"><img src=\"https://colab.research.google.com/assets/colab-badge.svg\" alt=\"Open In Colab\"/></a>"
      ]
    },
    {
      "cell_type": "markdown",
      "metadata": {
        "id": "hXh8o8RIaQAR"
      },
      "source": [
        "# **InventorBot: Using AI to Generate Ideas for Inventions in Any Field**\r\n",
        "How a neural network trained on the US Patent Database can produce new and possibly useful inventions.\r\n",
        "\r\n",
        "![alt text](https://raw.githubusercontent.com/robgon-art/InventorBot/main/Shadow_Hand_Bulb_small.png)"
      ]
    },
    {
      "cell_type": "markdown",
      "metadata": {
        "id": "7kQSU4v0bIFl"
      },
      "source": [
        "# Initialize the InventorBot System\r\n",
        "Click the **Run cell** button (the play button) below to set things up. It takes about 5 minutes to load the dataset files and configure the neural network models."
      ]
    },
    {
      "cell_type": "code",
      "metadata": {
        "id": "TaxP6qIWI6FO",
        "cellView": "form"
      },
      "source": [
        "#@title\n",
        "%tensorflow_version 1.x\n",
        "!pip install -q gpt-2-simple\n",
        "print(\"Downloading the InventorBot model.\")\n",
        "!gdown --id 1Q5Tvzx2gnTnujP5TGt8yytWvGAzdym5r\n",
        "!unzip inventor_bot_2.zip\n",
        "\n",
        "!pip install transformers==3.4.0\n",
        "from transformers import pipeline\n",
        "summarizer = pipeline(\"summarization\", model=\"t5-large\", tokenizer=\"t5-large\", framework=\"pt\")\n",
        "import gpt_2_simple as gpt2\n",
        "sess = gpt2.start_tf_sess()\n",
        "gpt2.load_gpt2(sess)\n",
        "import textwrap\n",
        "wrapper = textwrap.TextWrapper(width=175) \n",
        "import os\n",
        "import sys\n",
        "old_stderr = sys.stderr\n",
        "f = open(os.devnull, 'w')\n",
        "sys.stderr = f\n",
        "setup_gruen = False"
      ],
      "execution_count": null,
      "outputs": []
    },
    {
      "cell_type": "markdown",
      "metadata": {
        "id": "9ylCAZithgnP"
      },
      "source": [
        "# Create Some New Ideas for Inventions\r\n",
        "Type in some **keywords** then click **Run cell** button to generate new invention ideas with titles and abstracts that relate to the keywords. You can run this multiple times with the same or different keywords. You can specify the **temperature** to change the quality and diversity of the text. Higher temperatures will have greater linguistic variety where lower temperatures will be more grammatically correct. You can also specify the **number of ideas** to generate."
      ]
    },
    {
      "cell_type": "code",
      "metadata": {
        "colab": {
          "base_uri": "https://localhost:8080/"
        },
        "id": "hEW23ukv6aag",
        "cellView": "form",
        "outputId": "c2b948fd-12c2-4194-f11a-5bec3125751f"
      },
      "source": [
        "keywords = \"improved headphones\" #@param {type:\"string\"}\r\n",
        "temperature = 85 #@param {type:\"slider\", min:70, max:100, step:1}\r\n",
        "number_of_ideas = 7 #@param {type:\"slider\", min:4, max:20, step:1}\r\n",
        "\r\n",
        "new_ideas = gpt2.generate(sess, length=200, temperature=temperature/100,\r\n",
        "  prefix=\"KEYWORDS: \" + keywords + \"\\nTITLE:\", nsamples=number_of_ideas, \r\n",
        "  batch_size=number_of_ideas, return_as_list=True, include_prefix=True,\r\n",
        "  truncate=\"***\")\r\n",
        "\r\n",
        "keepers = []\r\n",
        "summaries = []\r\n",
        "\r\n",
        "show_full_abstract = False\r\n",
        "\r\n",
        "for idea in new_ideas:\r\n",
        "  if idea.count(\"KEYWORDS:\") is 1 and idea.count(\"TITLE:\") is 1 and idea.count(\"ABSTRACT:\") is 1:\r\n",
        "    parts = idea.split(\"\\n\")\r\n",
        "    if len(parts) is not 4:\r\n",
        "      continue\r\n",
        "    keeper = []\r\n",
        "    for part in parts:\r\n",
        "      if part.startswith(\"ABSTRACT:\"):\r\n",
        "        abstract = part[9:]\r\n",
        "        if show_full_abstract:\r\n",
        "          part = \"FULL ABSTRACT: \" + abstract + \"\\n\"\r\n",
        "        else:\r\n",
        "          part = \"\"\r\n",
        "        summary_text = summarizer(abstract, max_length=200, min_length=5, do_sample=False)[0]['summary_text']\r\n",
        "        summary_text = summary_text + \" \"\r\n",
        "        summary_text ='. '.join([i.capitalize() for i in summary_text.split(' . ')])\r\n",
        "        summaries.append(summary_text)\r\n",
        "        part += \"ABSTRACT: \" + summary_text\r\n",
        "      if len(part) > 0:\r\n",
        "        keeper.append(part)\r\n",
        "      print(wrapper.fill(part))\r\n",
        "    keepers.append(keeper)"
      ],
      "execution_count": 10,
      "outputs": [
        {
          "output_type": "stream",
          "text": [
            "KEYWORDS: improved headphones\n",
            "TITLE: Headphone system including improved headphones\n",
            "ABSTRACT: Headphone system includes an audio system and a method for optimizing speaker efficiency. Headphone systems and microphones may be in different modes or in different\n",
            "applications. Sound source selection may be accomplished by sensing the direction of the audio signals on the network or within the headphones.\n",
            "\n",
            "KEYWORDS: improved headphones\n",
            "TITLE: Audio amplifier with improved headphones\n",
            "ABSTRACT: Sound amplifiers are formed using primary and secondary analog analog amplification stages. Amplifier stages have a base region having a signal collector region.\n",
            "\n",
            "KEYWORDS: improved headphones\n",
            "TITLE: Method for producing improved headphones\n",
            "ABSTRACT: The present invention provides a method for producing improved headphones. The method includes laying a pair of headphones on a front surface of a substrate.\n",
            "\n",
            "KEYWORDS: improved headphones\n",
            "TITLE: Radio frequency signals for improved headphones\n",
            "ABSTRACT: Filter module includes a plurality of filter modules disposed adjacent one another from a common output. Filter sections are of a size that is smaller than that of\n",
            "the connection ports of the device.\n",
            "\n",
            "KEYWORDS: improved headphones\n",
            "TITLE: Acoustical acoustical device with improved headphones\n",
            "ABSTRACT: Headphone drivers and devices disclosed herein are substantially independent of the sound or sound streams. At least one of the microphones or the source is placed\n",
            "in an improved sound stream. The sound stream is reduced in volume by using an attenuation device having a frequency preferentially tuned to the acoustic frequency.\n",
            "\n",
            "KEYWORDS: improved headphones\n",
            "TITLE: Advanced switching gate arrangement having improved headphones\n",
            "ABSTRACT: An advanced switching gate arrangement for playing back music is shown. It includes an audio signal processing circuit connected to a signal resonator. A switch\n",
            "controls the signal processor to operate in a frequency domain mode. The audio signal is coupled between a first and a second channel signal line.\n",
            "\n"
          ],
          "name": "stdout"
        }
      ]
    }
  ]
}