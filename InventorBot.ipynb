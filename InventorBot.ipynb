{
  "nbformat": 4,
  "nbformat_minor": 0,
  "metadata": {
    "colab": {
      "name": "InventorBot",
      "provenance": [],
      "collapsed_sections": [],
      "machine_shape": "hm",
      "toc_visible": true,
      "include_colab_link": true
    },
    "kernelspec": {
      "display_name": "Python 3",
      "name": "python3"
    },
    "accelerator": "GPU"
  },
  "cells": [
    {
      "cell_type": "markdown",
      "metadata": {
        "id": "view-in-github",
        "colab_type": "text"
      },
      "source": [
        "<a href=\"https://colab.research.google.com/github/robgon-art/InventorBot/blob/main/InventorBot.ipynb\" target=\"_parent\"><img src=\"https://colab.research.google.com/assets/colab-badge.svg\" alt=\"Open In Colab\"/></a>"
      ]
    },
    {
      "cell_type": "markdown",
      "metadata": {
        "id": "hXh8o8RIaQAR"
      },
      "source": [
        "# **InventorBot: Using AI to Generate Ideas for Inventions in Any Field**\n",
        "## How a neural network trained on the US Patent Database can produce new and possibly useful inventions.\n",
        "\n",
        "![alt text](https://raw.githubusercontent.com/robgon-art/InventorBot/main/Shadow_Hand_Bulb_small.png)\n",
        "\n",
        "You can see my article on [Medium](https://medium.com/geekculture/inventorbot-using-ai-to-generate-new-ideas-in-any-field-9345f9042df).</br>\n",
        "The source code and generated images are released under the [CC BY-SA license](https://creativecommons.org/licenses/by-sa/4.0/).</br>\n",
        "![CC BYC-SA](https://licensebuttons.net/l/by-sa/3.0/88x31.png)"
      ]
    },
    {
      "cell_type": "markdown",
      "metadata": {
        "id": "7kQSU4v0bIFl"
      },
      "source": [
        "# Initialize the InventorBot System\n",
        "Click the **Run cell** button (the play button) below to set things up. It takes about 5 minutes to load the dataset files and configure the neural network models."
      ]
    },
    {
      "cell_type": "code",
      "metadata": {
        "id": "TaxP6qIWI6FO",
        "cellView": "form"
      },
      "source": [
        "#@title Initialize System\n",
        "!pip install -q gpt-2-simple\n",
        "print(\"Downloading the InventorBot model.\")\n",
        "!gdown 1GReZO3uUflXP8rYhdFjfrw5OJlEXlZoR\n",
        "!unzip inventor_bot.zip\n",
        "!pip install transformers==3.4.0\n",
        "from transformers import pipeline\n",
        "summarizer = pipeline(\"summarization\", model=\"t5-large\", tokenizer=\"t5-large\", framework=\"pt\")\n",
        "import gpt_2_simple as gpt2\n",
        "sess = gpt2.start_tf_sess()\n",
        "gpt2.load_gpt2(sess)\n",
        "import textwrap\n",
        "wrapper = textwrap.TextWrapper(width=175) \n",
        "import os\n",
        "import sys\n",
        "old_stderr = sys.stderr\n",
        "f = open(os.devnull, 'w')\n",
        "sys.stderr = f\n",
        "setup_gruen = False"
      ],
      "execution_count": null,
      "outputs": []
    },
    {
      "cell_type": "markdown",
      "metadata": {
        "id": "9ylCAZithgnP"
      },
      "source": [
        "# Create Some New Ideas for Inventions\n",
        "Type in some **keywords** then click **Run cell** button to generate new invention ideas with titles and abstracts that relate to the keywords. You can run this multiple times with the same or different keywords. You can specify the **temperature** to change the quality and diversity of the text. Higher temperatures will have greater linguistic variety where lower temperatures will be more grammatically correct. You can also specify the **number of ideas** to generate."
      ]
    },
    {
      "cell_type": "code",
      "metadata": {
        "colab": {
          "base_uri": "https://localhost:8080/"
        },
        "id": "hEW23ukv6aag",
        "cellView": "form",
        "outputId": "70e98abf-eb5d-417d-c96f-6e569df0e37b"
      },
      "source": [
        "keywords = \"improved headphones\" #@param {type:\"string\"}\n",
        "temperature = 85 #@param {type:\"slider\", min:70, max:100, step:1}\n",
        "number_of_ideas = 7 #@param {type:\"slider\", min:4, max:20, step:1}\n",
        "\n",
        "new_ideas = gpt2.generate(sess, length=200, temperature=temperature/100,\n",
        "  prefix=\"KEYWORDS: \" + keywords + \"\\nTITLE:\", nsamples=number_of_ideas, \n",
        "  batch_size=number_of_ideas, return_as_list=True, include_prefix=True,\n",
        "  truncate=\"***\")\n",
        "\n",
        "keepers = []\n",
        "summaries = []\n",
        "\n",
        "show_full_abstract = False\n",
        "\n",
        "for idea in new_ideas:\n",
        "  if idea.count(\"KEYWORDS:\") is 1 and idea.count(\"TITLE:\") is 1 and idea.count(\"ABSTRACT:\") is 1:\n",
        "    parts = idea.split(\"\\n\")\n",
        "    if len(parts) is not 4:\n",
        "      continue\n",
        "    keeper = []\n",
        "    for part in parts:\n",
        "      if part.startswith(\"ABSTRACT:\"):\n",
        "        abstract = part[9:]\n",
        "        if show_full_abstract:\n",
        "          part = \"FULL ABSTRACT: \" + abstract + \"\\n\"\n",
        "        else:\n",
        "          part = \"\"\n",
        "        summary_text = summarizer(abstract, max_length=200, min_length=5, do_sample=False)[0]['summary_text']\n",
        "        summary_text = summary_text + \" \"\n",
        "        summary_text ='. '.join([i.capitalize() for i in summary_text.split(' . ')])\n",
        "        if \"null pointer\" in summary_text:\n",
        "          summaries.append(abstract)\n",
        "          part += \"ABSTRACT: \" + abstract\n",
        "        else:\n",
        "          summaries.append(summary_text)\n",
        "          part += \"ABSTRACT: \" + summary_text\n",
        "      if len(part) > 0:\n",
        "        keeper.append(part)\n",
        "      print(wrapper.fill(part))\n",
        "    keepers.append(keeper)"
      ],
      "execution_count": 2,
      "outputs": [
        {
          "output_type": "stream",
          "name": "stdout",
          "text": [
            "KEYWORDS: improved headphones\n",
            "TITLE: Improved headphones\n",
            "ABSTRACT: Improved headphone configured to emit sound of rhythmic nature. Frequency and amplitude of a sound signal, an audio processor and a speaker arrangement are reduced\n",
            "by utilizing a resonator.\n",
            "\n",
            "KEYWORDS: improved headphones\n",
            "TITLE: Method and apparatus for providing improved headphones\n",
            "ABSTRACT: A method and apparatus for providing improved headphones are provided. In the present method, terminal devices of a terminal device can be implemented. Wireless\n",
            "communication of the terminal device across a second receiving distance can be performed in a first manner.\n",
            "\n",
            "KEYWORDS: improved headphones\n",
            "TITLE: Adjustable volume control for improved headphones\n",
            "ABSTRACT: Improved audio system is provided which allows an individual to increase the volume of an audio system. The system includes a speaker which is positioned to\n",
            "influence a desired sound per time.\n",
            "\n",
            "KEYWORDS: improved headphones\n",
            "TITLE: Headset with an improved headphones\n",
            "ABSTRACT: Headset has a housing comprising a head support structure, a microphone, and a locking mechanism. The head support is physically disposed on a top surface of the\n",
            "housing.\n",
            "\n",
            "KEYWORDS: improved headphones\n",
            "TITLE: Compact portable electronic device with improved headphones\n",
            "ABSTRACT: The portable electronic device includes a battery, a microphone, and a controller coupled to the battery. The controller may be an electronic device existing on a\n",
            "housing of a handheld device.\n",
            "\n",
            "KEYWORDS: improved headphones\n",
            "TITLE: Headset audio system with improved headphones\n",
            "ABSTRACT: Headset has a base unit and an audio headset. Base unit includes enclosure, a speaker, and speaker drive.\n",
            "\n",
            "KEYWORDS: improved headphones\n",
            "TITLE: Earphone with improved headphones\n",
            "ABSTRACT: Individual vibrations of the earphone are redundantly transmitted to a remote concave-shaped microphone. Headphone includes a first microphone and a second\n",
            "microphone positioned adjacent the first microphone.\n",
            "\n"
          ]
        }
      ]
    }
  ]
}