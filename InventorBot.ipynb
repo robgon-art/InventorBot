{
  "nbformat": 4,
  "nbformat_minor": 0,
  "metadata": {
    "colab": {
      "name": "InventorBot",
      "provenance": [],
      "collapsed_sections": [],
      "machine_shape": "hm",
      "toc_visible": true,
      "include_colab_link": true
    },
    "kernelspec": {
      "display_name": "Python 3",
      "name": "python3"
    },
    "accelerator": "GPU"
  },
  "cells": [
    {
      "cell_type": "markdown",
      "metadata": {
        "id": "view-in-github",
        "colab_type": "text"
      },
      "source": [
        "<a href=\"https://colab.research.google.com/github/robgon-art/InventorBot/blob/main/InventorBot.ipynb\" target=\"_parent\"><img src=\"https://colab.research.google.com/assets/colab-badge.svg\" alt=\"Open In Colab\"/></a>"
      ]
    },
    {
      "cell_type": "markdown",
      "metadata": {
        "id": "hXh8o8RIaQAR"
      },
      "source": [
        "# **InventorBot: Using AI to Generate Ideas for Inventions in Any Field**\n",
        "How a neural network trained on the US Patent Database can produce new and possibly useful inventions.\n",
        "\n",
        "![alt text](https://raw.githubusercontent.com/robgon-art/InventorBot/main/Shadow_Hand_Bulb_small.png)"
      ]
    },
    {
      "cell_type": "markdown",
      "metadata": {
        "id": "7kQSU4v0bIFl"
      },
      "source": [
        "# Initialize the InventorBot System\n",
        "Click the **Run cell** button (the play button) below to set things up. It takes about 5 minutes to load the dataset files and configure the neural network models."
      ]
    },
    {
      "cell_type": "code",
      "metadata": {
        "id": "TaxP6qIWI6FO",
        "cellView": "form"
      },
      "source": [
        "#@title Initialize System\n",
        "!pip install -q gpt-2-simple\n",
        "print(\"Downloading the InventorBot model.\")\n",
        "!gdown 1GReZO3uUflXP8rYhdFjfrw5OJlEXlZoR\n",
        "!unzip inventor_bot.zip\n",
        "!pip install transformers==3.4.0\n",
        "from transformers import pipeline\n",
        "summarizer = pipeline(\"summarization\", model=\"t5-large\", tokenizer=\"t5-large\", framework=\"pt\")\n",
        "import gpt_2_simple as gpt2\n",
        "sess = gpt2.start_tf_sess()\n",
        "gpt2.load_gpt2(sess)\n",
        "import textwrap\n",
        "wrapper = textwrap.TextWrapper(width=175) \n",
        "import os\n",
        "import sys\n",
        "old_stderr = sys.stderr\n",
        "f = open(os.devnull, 'w')\n",
        "sys.stderr = f\n",
        "setup_gruen = False"
      ],
      "execution_count": null,
      "outputs": []
    },
    {
      "cell_type": "markdown",
      "metadata": {
        "id": "9ylCAZithgnP"
      },
      "source": [
        "# Create Some New Ideas for Inventions\n",
        "Type in some **keywords** then click **Run cell** button to generate new invention ideas with titles and abstracts that relate to the keywords. You can run this multiple times with the same or different keywords. You can specify the **temperature** to change the quality and diversity of the text. Higher temperatures will have greater linguistic variety where lower temperatures will be more grammatically correct. You can also specify the **number of ideas** to generate."
      ]
    },
    {
      "cell_type": "code",
      "metadata": {
        "colab": {
          "base_uri": "https://localhost:8080/"
        },
        "id": "hEW23ukv6aag",
        "cellView": "form",
        "outputId": "4a87b426-b3f1-4e18-c5fa-46fb46de9273"
      },
      "source": [
        "keywords = \"improved headphones\" #@param {type:\"string\"}\n",
        "temperature = 85 #@param {type:\"slider\", min:70, max:100, step:1}\n",
        "number_of_ideas = 7 #@param {type:\"slider\", min:4, max:20, step:1}\n",
        "\n",
        "new_ideas = gpt2.generate(sess, length=200, temperature=temperature/100,\n",
        "  prefix=\"KEYWORDS: \" + keywords + \"\\nTITLE:\", nsamples=number_of_ideas, \n",
        "  batch_size=number_of_ideas, return_as_list=True, include_prefix=True,\n",
        "  truncate=\"***\")\n",
        "\n",
        "keepers = []\n",
        "summaries = []\n",
        "\n",
        "show_full_abstract = False\n",
        "\n",
        "for idea in new_ideas:\n",
        "  if idea.count(\"KEYWORDS:\") is 1 and idea.count(\"TITLE:\") is 1 and idea.count(\"ABSTRACT:\") is 1:\n",
        "    parts = idea.split(\"\\n\")\n",
        "    if len(parts) is not 4:\n",
        "      continue\n",
        "    keeper = []\n",
        "    for part in parts:\n",
        "      if part.startswith(\"ABSTRACT:\"):\n",
        "        abstract = part[9:]\n",
        "        if show_full_abstract:\n",
        "          part = \"FULL ABSTRACT: \" + abstract + \"\\n\"\n",
        "        else:\n",
        "          part = \"\"\n",
        "        summary_text = summarizer(abstract, max_length=200, min_length=5, do_sample=False)[0]['summary_text']\n",
        "        summary_text = summary_text + \" \"\n",
        "        summary_text ='. '.join([i.capitalize() for i in summary_text.split(' . ')])\n",
        "        if \"null pointer\" in summary_text:\n",
        "          summaries.append(abstract)\n",
        "          part += \"ABSTRACT: \" + abstract\n",
        "        else:\n",
        "          summaries.append(summary_text)\n",
        "          part += \"ABSTRACT: \" + summary_text\n",
        "      if len(part) > 0:\n",
        "        keeper.append(part)\n",
        "      print(wrapper.fill(part))\n",
        "    keepers.append(keeper)"
      ],
      "execution_count": 2,
      "outputs": [
        {
          "output_type": "stream",
          "name": "stdout",
          "text": [
            "KEYWORDS: improved headphones\n",
            "TITLE: Podcast distribution system consisting of improved headphones\n",
            "ABSTRACT: A podcast distribution system is provided that comprises a first antenna and a second antenna coupled via the first antenna to form a mobile station. First receiver\n",
            "has a digital radio receiver coupled to the radio system.\n",
            "\n",
            "KEYWORDS: improved headphones\n",
            "TITLE: Method and apparatus for improved headphones\n",
            "ABSTRACT: Improved speaker system includes a recessed sound stream. Speaker recirculating apparatus recirculates sound stream into speaker.\n",
            "\n",
            "KEYWORDS: improved headphones\n",
            "TITLE: Threshold ratio of improved headphones\n",
            "ABSTRACT: Improved headphones system includes an acoustic driver, an earphone, a speaker, and an amplifier. A pair of semiconducting leads are connected to a base base-mount.\n",
            "\n",
            "KEYWORDS: improved headphones\n",
            "TITLE: Removable earphone having improved headphones\n",
            "ABSTRACT: Removably binding earphone includes a housing having an earpiece. Plurality of headphones are connected between each ear piece.\n",
            "\n",
            "KEYWORDS: improved headphones\n",
            "TITLE: Device for enhancing audio/video signal and improved headphones\n",
            "ABSTRACT: Device for enhancing audio and video signal and providing improved headphones to users. Includes receiver circuitry for transmitting audio data in a preferred\n",
            "channel. Receives channel signal and generates a plurality of signals from channel signal.\n",
            "\n",
            "KEYWORDS: improved headphones\n",
            "TITLE: Supposing for improved headphones\n",
            "ABSTRACT: The present invention provides a method of manufacture of headphones having improved capability responsive to a sound element. The method can be carried out by\n",
            "providing a battery pack with a low power component and a soft component.\n",
            "\n",
            "KEYWORDS: improved headphones\n",
            "TITLE: Headset with improved headphones\n",
            "ABSTRACT: A headset is disclosed for use with a wearable computing device. The headset includes headphones or transducers contained within the headset.\n",
            "\n"
          ]
        }
      ]
    }
  ]
}