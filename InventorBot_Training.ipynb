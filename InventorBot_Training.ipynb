{
  "nbformat": 4,
  "nbformat_minor": 0,
  "metadata": {
    "colab": {
      "name": "InventorBot Training",
      "provenance": [],
      "collapsed_sections": [],
      "machine_shape": "hm",
      "include_colab_link": true
    },
    "kernelspec": {
      "display_name": "Python 3",
      "name": "python3"
    },
    "accelerator": "GPU"
  },
  "cells": [
    {
      "cell_type": "markdown",
      "metadata": {
        "id": "view-in-github",
        "colab_type": "text"
      },
      "source": [
        "<a href=\"https://colab.research.google.com/github/robgon-art/InventorBot/blob/main/InventorBot_Training.ipynb\" target=\"_parent\"><img src=\"https://colab.research.google.com/assets/colab-badge.svg\" alt=\"Open In Colab\"/></a>"
      ]
    },
    {
      "cell_type": "code",
      "metadata": {
        "id": "4iT4onlRbYu4"
      },
      "source": [
        "from google.colab import drive\r\n",
        "drive.mount('/content/drive')"
      ],
      "execution_count": null,
      "outputs": []
    },
    {
      "cell_type": "code",
      "metadata": {
        "id": "TaxP6qIWI6FO"
      },
      "source": [
        "# Use TensorFlow 1.15\r\n",
        "%tensorflow_version 1.x\r\n",
        "\r\n",
        "# Install GPT-2, download the large model, and start the session\r\n",
        "!pip install -q gpt-2-simple\r\n",
        "import gpt_2_simple as gpt2\r\n",
        "model = \"774M\" # 124M 355M 774M 1558M\r\n",
        "gpt2.download_gpt2(model_name=model)\r\n",
        "sess = gpt2.start_tf_sess()"
      ],
      "execution_count": null,
      "outputs": []
    },
    {
      "cell_type": "code",
      "metadata": {
        "cellView": "both",
        "id": "KBkpRgBCBS2_"
      },
      "source": [
        "gpt2.finetune(sess, dataset=\"/content/drive/MyDrive/patents\", model_name=model,\n",
        "              steps=100000, restore_from='latest', run_name='run1', print_every=1000,\n",
        "              sample_every=10000, save_every=10000, checkpoint_dir=\"/content/drive/MyDrive/patent_models\")"
      ],
      "execution_count": null,
      "outputs": []
    }
  ]
}